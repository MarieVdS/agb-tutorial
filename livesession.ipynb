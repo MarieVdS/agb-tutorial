{
 "cells": [
  {
   "cell_type": "code",
   "execution_count": 64,
   "metadata": {},
   "outputs": [],
   "source": [
    "model = KoekenBak.KoekenBak('/Users/marie/KoekenBak/input/20241015-agb-tutorial.dat')"
   ]
  },
  {
   "cell_type": "code",
   "execution_count": 65,
   "metadata": {},
   "outputs": [
    {
     "name": "stdout",
     "output_type": "stream",
     "text": [
      "************************************************\n",
      "** Running Chemistry \n",
      "************************************************\n",
      "***********************************\n",
      "** Model #1 out of 2 requested models.\n",
      "***********************************\n",
      "***********************************\n",
      "** Making input file for Chemistry\n",
      "variations\n",
      "** DONE!\n",
      "***********************************\n",
      "Chemistry model has been calculated before with ID model_2024-10-23h11-54-07\n",
      "***********************************\n",
      "***********************************\n",
      "** Model #2 out of 2 requested models.\n",
      "***********************************\n",
      "***********************************\n",
      "** Making input file for Chemistry\n",
      "variations\n",
      "** DONE!\n",
      "***********************************\n",
      "Chemistry model has been calculated before with ID model_2024-10-23h11-54-29\n",
      "***********************************\n"
     ]
    }
   ],
   "source": [
    "model.startSession()"
   ]
  },
  {
   "cell_type": "code",
   "execution_count": null,
   "metadata": {},
   "outputs": [],
   "source": []
  },
  {
   "cell_type": "code",
   "execution_count": 60,
   "metadata": {},
   "outputs": [],
   "source": [
    "mol = 'C2H2'"
   ]
  },
  {
   "cell_type": "code",
   "execution_count": 61,
   "metadata": {},
   "outputs": [
    {
     "ename": "FileNotFoundError",
     "evalue": "[Errno 2] No such file or directory: '/Users/marie/Chemistry/CSE/Output-agb-tutorial/models/model_2024-10-23h11-54-07/csphyspar_smooth.out'",
     "output_type": "error",
     "traceback": [
      "\u001b[0;31m---------------------------------------------------------------------------\u001b[0m",
      "\u001b[0;31mFileNotFoundError\u001b[0m                         Traceback (most recent call last)",
      "Cell \u001b[0;32mIn[61], line 3\u001b[0m\n\u001b[1;32m      1\u001b[0m \u001b[38;5;28;01mfor\u001b[39;00m istar,star \u001b[38;5;129;01min\u001b[39;00m \u001b[38;5;28menumerate\u001b[39m(model\u001b[38;5;241m.\u001b[39mstar_grid):\n\u001b[1;32m      2\u001b[0m     folder \u001b[38;5;241m=\u001b[39m os\u001b[38;5;241m.\u001b[39mpath\u001b[38;5;241m.\u001b[39mjoin(path\u001b[38;5;241m.\u001b[39mcout,\u001b[38;5;124m'\u001b[39m\u001b[38;5;124mmodels\u001b[39m\u001b[38;5;124m'\u001b[39m,star[\u001b[38;5;124m'\u001b[39m\u001b[38;5;124mLAST_CHEMISTRY_MODEL\u001b[39m\u001b[38;5;124m'\u001b[39m])\u001b[38;5;241m+\u001b[39m\u001b[38;5;124m'\u001b[39m\u001b[38;5;124m/\u001b[39m\u001b[38;5;124m'\u001b[39m  \n\u001b[0;32m----> 3\u001b[0m     radius \u001b[38;5;241m=\u001b[39m \u001b[43mCodeIO\u001b[49m\u001b[38;5;241;43m.\u001b[39;49m\u001b[43mgetChemistryPhysPar\u001b[49m\u001b[43m(\u001b[49m\u001b[43mfolder\u001b[49m\u001b[38;5;241;43m+\u001b[39;49m\u001b[38;5;124;43m'\u001b[39;49m\u001b[38;5;124;43mcsphyspar_smooth.out\u001b[39;49m\u001b[38;5;124;43m'\u001b[39;49m\u001b[43m,\u001b[49m\u001b[38;5;124;43m'\u001b[39;49m\u001b[38;5;124;43mRADIUS\u001b[39;49m\u001b[38;5;124;43m'\u001b[39;49m\u001b[43m)\u001b[49m\n\u001b[1;32m      4\u001b[0m     fracs \u001b[38;5;241m=\u001b[39m CodeIO\u001b[38;5;241m.\u001b[39mgetChemistryAbundances(folder\u001b[38;5;241m+\u001b[39m\u001b[38;5;124m'\u001b[39m\u001b[38;5;124mcsfrac_smooth.out\u001b[39m\u001b[38;5;124m'\u001b[39m)\n\u001b[1;32m      5\u001b[0m     p\u001b[38;5;241m.\u001b[39mloglog(radius,fracs[mol]\u001b[38;5;241m*\u001b[39m\u001b[38;5;241m2.\u001b[39m,ls\u001b[38;5;241m=\u001b[39m\u001b[38;5;124m'\u001b[39m\u001b[38;5;124m-\u001b[39m\u001b[38;5;124m'\u001b[39m)\n",
      "File \u001b[0;32m~/KoekenBak/kb/modeling/tools/CodeIO.py:139\u001b[0m, in \u001b[0;36mgetChemistryPhysPar\u001b[0;34m(filename, keyword)\u001b[0m\n\u001b[1;32m    110\u001b[0m \u001b[38;5;250m\u001b[39m\u001b[38;5;124;03m'''\u001b[39;00m\n\u001b[1;32m    111\u001b[0m \u001b[38;5;124;03mReads in the Chemistry physical output\u001b[39;00m\n\u001b[1;32m    112\u001b[0m \u001b[38;5;124;03m\u001b[39;00m\n\u001b[0;32m   (...)\u001b[0m\n\u001b[1;32m    125\u001b[0m \u001b[38;5;124;03m\u001b[39;00m\n\u001b[1;32m    126\u001b[0m \u001b[38;5;124;03m'''\u001b[39;00m\n\u001b[1;32m    128\u001b[0m \u001b[38;5;66;03m##- Open file, read in all columns\u001b[39;00m\n\u001b[1;32m    129\u001b[0m \u001b[38;5;66;03m#data = DataIO.readCols(filename,start_row=1)\u001b[39;00m\n\u001b[1;32m    130\u001b[0m \n\u001b[0;32m   (...)\u001b[0m\n\u001b[1;32m    135\u001b[0m \u001b[38;5;66;03m#c = [i for i,s in enumerate(data) if keyword in s[0]][0]\u001b[39;00m\n\u001b[1;32m    136\u001b[0m \u001b[38;5;66;03m#par = [float(p) for p in data[c][1:]]\u001b[39;00m\n\u001b[0;32m--> 139\u001b[0m f \u001b[38;5;241m=\u001b[39m \u001b[38;5;28;43mopen\u001b[39;49m\u001b[43m(\u001b[49m\u001b[43mfilename\u001b[49m\u001b[43m)\u001b[49m\n\u001b[1;32m    140\u001b[0m data \u001b[38;5;241m=\u001b[39m f\u001b[38;5;241m.\u001b[39mreadlines()\n\u001b[1;32m    141\u001b[0m f\u001b[38;5;241m.\u001b[39mclose()\n",
      "\u001b[0;31mFileNotFoundError\u001b[0m: [Errno 2] No such file or directory: '/Users/marie/Chemistry/CSE/Output-agb-tutorial/models/model_2024-10-23h11-54-07/csphyspar_smooth.out'"
     ]
    }
   ],
   "source": [
    "for istar,star in enumerate(model.star_grid):\n",
    "    folder = os.path.join(path.cout,'models',star['LAST_CHEMISTRY_MODEL'])+'/'  \n",
    "    radius = CodeIO.getChemistryPhysPar(folder+'csphyspar_smooth.out','RADIUS')\n",
    "    fracs = CodeIO.getChemistryAbundances(folder+'csfrac_smooth.out')\n",
    "    p.loglog(radius,fracs[mol]*2.,ls='-')\n"
   ]
  },
  {
   "cell_type": "code",
   "execution_count": 62,
   "metadata": {},
   "outputs": [],
   "source": [
    "mols = ['SiO','H2O','SO']\n",
    "lss = ['-','--']\n",
    "\n"
   ]
  },
  {
   "cell_type": "code",
   "execution_count": 63,
   "metadata": {},
   "outputs": [
    {
     "ename": "FileNotFoundError",
     "evalue": "[Errno 2] No such file or directory: '/Users/marie/Chemistry/CSE/Output-agb-tutorial/models/model_2024-10-23h11-54-07/csphyspar_smooth.out'",
     "output_type": "error",
     "traceback": [
      "\u001b[0;31m---------------------------------------------------------------------------\u001b[0m",
      "\u001b[0;31mFileNotFoundError\u001b[0m                         Traceback (most recent call last)",
      "Cell \u001b[0;32mIn[63], line 4\u001b[0m\n\u001b[1;32m      2\u001b[0m \u001b[38;5;28;01mfor\u001b[39;00m imol,mol \u001b[38;5;129;01min\u001b[39;00m \u001b[38;5;28menumerate\u001b[39m(mols):\n\u001b[1;32m      3\u001b[0m     folder \u001b[38;5;241m=\u001b[39m os\u001b[38;5;241m.\u001b[39mpath\u001b[38;5;241m.\u001b[39mjoin(path\u001b[38;5;241m.\u001b[39mcout,\u001b[38;5;124m'\u001b[39m\u001b[38;5;124mmodels\u001b[39m\u001b[38;5;124m'\u001b[39m,star[\u001b[38;5;124m'\u001b[39m\u001b[38;5;124mLAST_CHEMISTRY_MODEL\u001b[39m\u001b[38;5;124m'\u001b[39m])\u001b[38;5;241m+\u001b[39m\u001b[38;5;124m'\u001b[39m\u001b[38;5;124m/\u001b[39m\u001b[38;5;124m'\u001b[39m  \n\u001b[0;32m----> 4\u001b[0m     radius \u001b[38;5;241m=\u001b[39m \u001b[43mCodeIO\u001b[49m\u001b[38;5;241;43m.\u001b[39;49m\u001b[43mgetChemistryPhysPar\u001b[49m\u001b[43m(\u001b[49m\u001b[43mfolder\u001b[49m\u001b[38;5;241;43m+\u001b[39;49m\u001b[38;5;124;43m'\u001b[39;49m\u001b[38;5;124;43mcsphyspar_smooth.out\u001b[39;49m\u001b[38;5;124;43m'\u001b[39;49m\u001b[43m,\u001b[49m\u001b[38;5;124;43m'\u001b[39;49m\u001b[38;5;124;43mRADIUS\u001b[39;49m\u001b[38;5;124;43m'\u001b[39;49m\u001b[43m)\u001b[49m\n\u001b[1;32m      5\u001b[0m     fracs \u001b[38;5;241m=\u001b[39m CodeIO\u001b[38;5;241m.\u001b[39mgetChemistryAbundances(folder\u001b[38;5;241m+\u001b[39m\u001b[38;5;124m'\u001b[39m\u001b[38;5;124mcsfrac_smooth.out\u001b[39m\u001b[38;5;124m'\u001b[39m)\n\u001b[1;32m      6\u001b[0m     p\u001b[38;5;241m.\u001b[39mloglog(radius,fracs[mol]\u001b[38;5;241m*\u001b[39m\u001b[38;5;241m2.\u001b[39m,label\u001b[38;5;241m=\u001b[39mmol)\n",
      "File \u001b[0;32m~/KoekenBak/kb/modeling/tools/CodeIO.py:139\u001b[0m, in \u001b[0;36mgetChemistryPhysPar\u001b[0;34m(filename, keyword)\u001b[0m\n\u001b[1;32m    110\u001b[0m \u001b[38;5;250m\u001b[39m\u001b[38;5;124;03m'''\u001b[39;00m\n\u001b[1;32m    111\u001b[0m \u001b[38;5;124;03mReads in the Chemistry physical output\u001b[39;00m\n\u001b[1;32m    112\u001b[0m \u001b[38;5;124;03m\u001b[39;00m\n\u001b[0;32m   (...)\u001b[0m\n\u001b[1;32m    125\u001b[0m \u001b[38;5;124;03m\u001b[39;00m\n\u001b[1;32m    126\u001b[0m \u001b[38;5;124;03m'''\u001b[39;00m\n\u001b[1;32m    128\u001b[0m \u001b[38;5;66;03m##- Open file, read in all columns\u001b[39;00m\n\u001b[1;32m    129\u001b[0m \u001b[38;5;66;03m#data = DataIO.readCols(filename,start_row=1)\u001b[39;00m\n\u001b[1;32m    130\u001b[0m \n\u001b[0;32m   (...)\u001b[0m\n\u001b[1;32m    135\u001b[0m \u001b[38;5;66;03m#c = [i for i,s in enumerate(data) if keyword in s[0]][0]\u001b[39;00m\n\u001b[1;32m    136\u001b[0m \u001b[38;5;66;03m#par = [float(p) for p in data[c][1:]]\u001b[39;00m\n\u001b[0;32m--> 139\u001b[0m f \u001b[38;5;241m=\u001b[39m \u001b[38;5;28;43mopen\u001b[39;49m\u001b[43m(\u001b[49m\u001b[43mfilename\u001b[49m\u001b[43m)\u001b[49m\n\u001b[1;32m    140\u001b[0m data \u001b[38;5;241m=\u001b[39m f\u001b[38;5;241m.\u001b[39mreadlines()\n\u001b[1;32m    141\u001b[0m f\u001b[38;5;241m.\u001b[39mclose()\n",
      "\u001b[0;31mFileNotFoundError\u001b[0m: [Errno 2] No such file or directory: '/Users/marie/Chemistry/CSE/Output-agb-tutorial/models/model_2024-10-23h11-54-07/csphyspar_smooth.out'"
     ]
    }
   ],
   "source": [
    "for istar,star in enumerate(model.star_grid):\n",
    "    for imol,mol in enumerate(mols):\n",
    "        folder = os.path.join(path.cout,'models',star['LAST_CHEMISTRY_MODEL'])+'/'  \n",
    "        radius = CodeIO.getChemistryPhysPar(folder+'csphyspar_smooth.out','RADIUS')\n",
    "        fracs = CodeIO.getChemistryAbundances(folder+'csfrac_smooth.out')\n",
    "        p.loglog(radius,fracs[mol]*2.,label=mol)\n",
    "p.legend()"
   ]
  },
  {
   "cell_type": "code",
   "execution_count": null,
   "metadata": {},
   "outputs": [],
   "source": []
  }
 ],
 "metadata": {
  "kernelspec": {
   "display_name": "Python 3",
   "language": "python",
   "name": "python3"
  },
  "language_info": {
   "codemirror_mode": {
    "name": "ipython",
    "version": 3
   },
   "file_extension": ".py",
   "mimetype": "text/x-python",
   "name": "python",
   "nbconvert_exporter": "python",
   "pygments_lexer": "ipython3",
   "version": "3.8.19"
  }
 },
 "nbformat": 4,
 "nbformat_minor": 2
}
